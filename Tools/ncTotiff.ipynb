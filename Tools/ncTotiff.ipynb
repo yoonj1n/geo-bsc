{
 "cells": [
  {
   "cell_type": "code",
   "execution_count": 45,
   "metadata": {},
   "outputs": [],
   "source": [
    "import rasterio"
   ]
  },
  {
   "cell_type": "code",
   "execution_count": 46,
   "metadata": {},
   "outputs": [],
   "source": [
    "import netCDF4 as nc"
   ]
  },
  {
   "cell_type": "code",
   "execution_count": 47,
   "metadata": {},
   "outputs": [],
   "source": [
    "import numpy as np"
   ]
  },
  {
   "cell_type": "code",
   "execution_count": 63,
   "metadata": {},
   "outputs": [],
   "source": [
    "nc_file = '/Users/choiyoonjin/Dev/geo-modelweb/Data/nc/his_west_20220703_00091.nc'"
   ]
  },
  {
   "cell_type": "code",
   "execution_count": 64,
   "metadata": {},
   "outputs": [],
   "source": [
    "f = nc.Dataset(nc_file)"
   ]
  },
  {
   "cell_type": "code",
   "execution_count": 65,
   "metadata": {},
   "outputs": [],
   "source": [
    "nav_lat_rho = f.variables['lat_rho'][:-1,:-1] \n",
    "nav_lon_rho = f.variables['lon_rho'][:-1,:-1]"
   ]
  },
  {
   "cell_type": "code",
   "execution_count": 66,
   "metadata": {},
   "outputs": [],
   "source": [
    "lat_min = np.max(nav_lat_rho)"
   ]
  },
  {
   "cell_type": "code",
   "execution_count": 67,
   "metadata": {},
   "outputs": [
    {
     "data": {
      "text/plain": [
       "37.98688862640065"
      ]
     },
     "execution_count": 67,
     "metadata": {},
     "output_type": "execute_result"
    }
   ],
   "source": [
    "lat_min"
   ]
  },
  {
   "cell_type": "code",
   "execution_count": 68,
   "metadata": {},
   "outputs": [],
   "source": [
    "lon_min = np.min(nav_lon_rho)"
   ]
  },
  {
   "cell_type": "code",
   "execution_count": 69,
   "metadata": {},
   "outputs": [],
   "source": [
    "U = f.variables['u'][0,-1,:-1,:]"
   ]
  },
  {
   "cell_type": "code",
   "execution_count": 70,
   "metadata": {},
   "outputs": [],
   "source": [
    "U = U[::-1,:]"
   ]
  },
  {
   "cell_type": "code",
   "execution_count": 71,
   "metadata": {},
   "outputs": [],
   "source": [
    "V = f.variables['v'][0,-1,:,:-1]\n",
    "V = V[::-1,:]"
   ]
  },
  {
   "cell_type": "code",
   "execution_count": 72,
   "metadata": {},
   "outputs": [],
   "source": [
    "nx_rho, ny_rho = nav_lat_rho.shape[1], nav_lon_rho.shape[0]"
   ]
  },
  {
   "cell_type": "code",
   "execution_count": 73,
   "metadata": {},
   "outputs": [],
   "source": [
    "lon_step = (nav_lon_rho[0,-1] - nav_lon_rho[0,0]) / nx_rho"
   ]
  },
  {
   "cell_type": "code",
   "execution_count": 74,
   "metadata": {},
   "outputs": [],
   "source": [
    "lat_step = (nav_lat_rho[-1,0] - nav_lat_rho[0,0]) / ny_rho"
   ]
  },
  {
   "cell_type": "code",
   "execution_count": 86,
   "metadata": {},
   "outputs": [],
   "source": [
    "wind_direction = (np.arctan2(-V,U)*180/np.pi+360)%360"
   ]
  },
  {
   "cell_type": "code",
   "execution_count": 87,
   "metadata": {},
   "outputs": [],
   "source": [
    "mask = np.isnan(wind_direction)"
   ]
  },
  {
   "cell_type": "code",
   "execution_count": 82,
   "metadata": {},
   "outputs": [],
   "source": [
    "with rasterio.open(\n",
    "    'wind_direction6.tif',\n",
    "    'w',\n",
    "    driver='GTiff',\n",
    "    height=U.shape[0],\n",
    "    width=U.shape[1],\n",
    "    count=1,\n",
    "    dtype=wind_direction.dtype,\n",
    "    crs='EPSG:4326',\n",
    "    transform=rasterio.transform.from_origin(lon_min,lat_min,lon_step,lat_step),\n",
    ") as dst:\n",
    "    dst.write(wind_direction,1)\n",
    "    dst.nodata = -9999"
   ]
  },
  {
   "attachments": {},
   "cell_type": "markdown",
   "metadata": {},
   "source": [
    "## wind speed"
   ]
  },
  {
   "cell_type": "code",
   "execution_count": 41,
   "metadata": {},
   "outputs": [
    {
     "name": "stderr",
     "output_type": "stream",
     "text": [
      "/Users/choiyoonjin/opt/anaconda3/envs/geomweb/lib/python3.8/site-packages/numpy/ma/core.py:6957: RuntimeWarning: overflow encountered in power\n",
      "  result = np.where(m, fa, umath.power(fa, fb)).view(basetype)\n"
     ]
    }
   ],
   "source": [
    "wind_speed = np.sqrt(U**2+V**2)"
   ]
  },
  {
   "cell_type": "code",
   "execution_count": 42,
   "metadata": {},
   "outputs": [
    {
     "data": {
      "text/plain": [
       "masked_array(\n",
       "  data=[[--, --, --, ..., --, --, --],\n",
       "        [--, --, --, ..., --, --, --],\n",
       "        [--, --, --, ..., --, --, --],\n",
       "        ...,\n",
       "        [0.12608855962753296, 0.30511316657066345, 0.3115362823009491,\n",
       "         ..., --, --, --],\n",
       "        [0.13179951906204224, 0.3109481632709503, 0.3644736111164093,\n",
       "         ..., --, --, --],\n",
       "        [0.1222233921289444, 0.1126437783241272, 0.1058214008808136, ...,\n",
       "         --, --, --]],\n",
       "  mask=[[ True,  True,  True, ...,  True,  True,  True],\n",
       "        [ True,  True,  True, ...,  True,  True,  True],\n",
       "        [ True,  True,  True, ...,  True,  True,  True],\n",
       "        ...,\n",
       "        [False, False, False, ...,  True,  True,  True],\n",
       "        [False, False, False, ...,  True,  True,  True],\n",
       "        [False, False, False, ...,  True,  True,  True]],\n",
       "  fill_value=1e+37,\n",
       "  dtype=float32)"
      ]
     },
     "execution_count": 42,
     "metadata": {},
     "output_type": "execute_result"
    }
   ],
   "source": [
    "wind_speed"
   ]
  },
  {
   "cell_type": "code",
   "execution_count": 43,
   "metadata": {},
   "outputs": [],
   "source": [
    "with rasterio.open(\n",
    "    'wind_speed.tif',\n",
    "    'w',\n",
    "    driver='GTiff',\n",
    "    height=U.shape[0],\n",
    "    width=U.shape[1],\n",
    "    count=1,\n",
    "    dtype=wind_speed.dtype,\n",
    "    crs='EPSG:4326',\n",
    "    transform=rasterio.transform.from_origin(lon_min,lat_min,lon_step,lat_step),\n",
    ") as dst:\n",
    "    dst.write(wind_speed,1)"
   ]
  }
 ],
 "metadata": {
  "kernelspec": {
   "display_name": "base",
   "language": "python",
   "name": "python3"
  },
  "language_info": {
   "codemirror_mode": {
    "name": "ipython",
    "version": 3
   },
   "file_extension": ".py",
   "mimetype": "text/x-python",
   "name": "python",
   "nbconvert_exporter": "python",
   "pygments_lexer": "ipython3",
   "version": "3.8.16"
  },
  "orig_nbformat": 4
 },
 "nbformat": 4,
 "nbformat_minor": 2
}
